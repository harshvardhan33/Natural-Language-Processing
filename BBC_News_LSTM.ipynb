{
  "nbformat": 4,
  "nbformat_minor": 0,
  "metadata": {
    "kernelspec": {
      "display_name": "Python 3",
      "language": "python",
      "name": "python3"
    },
    "language_info": {
      "codemirror_mode": {
        "name": "ipython",
        "version": 3
      },
      "file_extension": ".py",
      "mimetype": "text/x-python",
      "name": "python",
      "nbconvert_exporter": "python",
      "pygments_lexer": "ipython3",
      "version": "3.6.9"
    },
    "colab": {
      "name": "BBC News_LSTM.ipynb",
      "provenance": []
    },
    "accelerator": "GPU"
  },
  "cells": [
    {
      "cell_type": "code",
      "metadata": {
        "colab": {
          "base_uri": "https://localhost:8080/"
        },
        "id": "H5-RDpe1I43P",
        "outputId": "eb41d062-be1f-4f46-afc1-390f3f47e404"
      },
      "source": [
        "import tensorflow as tf\n",
        "print(tf.__version__)"
      ],
      "execution_count": null,
      "outputs": [
        {
          "output_type": "stream",
          "text": [
            "2.4.1\n"
          ],
          "name": "stdout"
        }
      ]
    },
    {
      "cell_type": "code",
      "metadata": {
        "colab": {
          "base_uri": "https://localhost:8080/"
        },
        "id": "V71qjhj1I43e",
        "outputId": "144eb31c-f8e9-4841-e445-8dba6bc3ff00"
      },
      "source": [
        "!pip install nltk\r\n",
        "import nltk\r\n",
        "nltk.download('stopwords')"
      ],
      "execution_count": null,
      "outputs": [
        {
          "output_type": "stream",
          "text": [
            "Requirement already satisfied: nltk in /usr/local/lib/python3.6/dist-packages (3.2.5)\n",
            "Requirement already satisfied: six in /usr/local/lib/python3.6/dist-packages (from nltk) (1.15.0)\n",
            "[nltk_data] Downloading package stopwords to /root/nltk_data...\n",
            "[nltk_data]   Package stopwords is already up-to-date!\n"
          ],
          "name": "stdout"
        },
        {
          "output_type": "execute_result",
          "data": {
            "text/plain": [
              "True"
            ]
          },
          "metadata": {
            "tags": []
          },
          "execution_count": 2
        }
      ]
    },
    {
      "cell_type": "code",
      "metadata": {
        "id": "EFDvX0xyI43f"
      },
      "source": [
        "import csv\n",
        "import tensorflow as tf\n",
        "import numpy as np\n",
        "import nltk\n",
        "from tensorflow.keras.preprocessing.text import Tokenizer\n",
        "from tensorflow.keras.preprocessing.sequence import pad_sequences\n",
        "from nltk.corpus import stopwords\n",
        "STOPWORDS = set(stopwords.words('english'))"
      ],
      "execution_count": null,
      "outputs": []
    },
    {
      "cell_type": "markdown",
      "metadata": {
        "id": "CYN7FnInI43g"
      },
      "source": [
        "Put the hyparameters at the top like this to make it easier to change and edit."
      ]
    },
    {
      "cell_type": "code",
      "metadata": {
        "id": "iVzPA8KYI43h"
      },
      "source": [
        "vocab_size = 5000 # frequently occuring 5000 words from the data (other ways :  word2vec,etc)\n",
        "embedding_dim = 64\n",
        "max_length = 200\n",
        "trunc_type = 'post'\n",
        "padding_type = 'post'\n",
        "oov_tok = '<OOV>'\n",
        "training_portion = .8"
      ],
      "execution_count": null,
      "outputs": []
    },
    {
      "cell_type": "markdown",
      "metadata": {
        "id": "MZ5aLn1VI43h"
      },
      "source": [
        "First, let's define two lists that containing articles and labels. In the meantime, we remove stopwords."
      ]
    },
    {
      "cell_type": "code",
      "metadata": {
        "colab": {
          "base_uri": "https://localhost:8080/"
        },
        "id": "jDJQZ3ODI43i",
        "outputId": "7735b422-468a-41c0-e4c9-58dbcfa6cf88"
      },
      "source": [
        "articles = []\n",
        "labels = []\n",
        "\n",
        "with open(\"bbc-text.csv\", 'r') as csvfile:\n",
        "    reader = csv.reader(csvfile, delimiter=',')\n",
        "    next(reader)\n",
        "    for row in reader:\n",
        "        labels.append(row[0])\n",
        "        article = row[1]\n",
        "        for word in STOPWORDS:\n",
        "            token = ' ' + word + ' '\n",
        "            article = article.replace(token, ' ')\n",
        "            article = article.replace(' ', ' ')\n",
        "        articles.append(article)\n",
        "print(len(labels))\n",
        "print(len(articles))"
      ],
      "execution_count": null,
      "outputs": [
        {
          "output_type": "stream",
          "text": [
            "2225\n",
            "2225\n"
          ],
          "name": "stdout"
        }
      ]
    },
    {
      "cell_type": "markdown",
      "metadata": {
        "id": "qzvuAiTCI43j"
      },
      "source": [
        "There are only 2,225 articles in the data. Then we split into training set and validation set, according to the parameter we set earlier, 80% for training, 20% for validation."
      ]
    },
    {
      "cell_type": "code",
      "metadata": {
        "colab": {
          "base_uri": "https://localhost:8080/"
        },
        "id": "wOS54f7uI43j",
        "outputId": "3827e767-172b-4d30-e7de-7ef5cbce6449"
      },
      "source": [
        "train_size = int(len(articles) * training_portion)\n",
        "\n",
        "train_articles = articles[0: train_size]\n",
        "train_labels = labels[0: train_size]\n",
        "\n",
        "validation_articles = articles[train_size:]\n",
        "validation_labels = labels[train_size:]\n",
        "\n",
        "print(train_size)\n",
        "print(len(train_articles))\n",
        "print(len(train_labels))\n",
        "print(len(validation_articles))\n",
        "print(len(validation_labels))"
      ],
      "execution_count": null,
      "outputs": [
        {
          "output_type": "stream",
          "text": [
            "1780\n",
            "1780\n",
            "1780\n",
            "445\n",
            "445\n"
          ],
          "name": "stdout"
        }
      ]
    },
    {
      "cell_type": "markdown",
      "metadata": {
        "id": "493HGk76I43k"
      },
      "source": [
        "Tokenizer does all the heavy lifting for us. In our articles that it was tokenizing, it will take 5,000 most common words. oov_token is to put a special value in when an unseen word is encountered. This means I want \"OOV\" in bracket to be used to for words that are not in the word index. \"fit_on_text\" will go through all the text and create dictionary like this:"
      ]
    },
    {
      "cell_type": "code",
      "metadata": {
        "id": "ZIh1VKCNI43m"
      },
      "source": [
        "tokenizer = Tokenizer(num_words = vocab_size, oov_token=oov_tok)\n",
        "tokenizer.fit_on_texts(train_articles)\n",
        "word_index = tokenizer.word_index"
      ],
      "execution_count": null,
      "outputs": []
    },
    {
      "cell_type": "markdown",
      "metadata": {
        "id": "-Ln6XytQI43n"
      },
      "source": [
        "You can see that \"OOV\" in bracket is number 1, \"said\" is number 2, \"mr\" is number 3, and so on."
      ]
    },
    {
      "cell_type": "code",
      "metadata": {
        "scrolled": false,
        "colab": {
          "base_uri": "https://localhost:8080/"
        },
        "id": "LzNpbbosI43n",
        "outputId": "68f6fe99-7783-4ee5-8b9a-15fb799f76e6"
      },
      "source": [
        "dict(list(word_index.items())[0:10])"
      ],
      "execution_count": null,
      "outputs": [
        {
          "output_type": "execute_result",
          "data": {
            "text/plain": [
              "{'<OOV>': 1,\n",
              " 'also': 6,\n",
              " 'mr': 3,\n",
              " 'new': 8,\n",
              " 'one': 10,\n",
              " 'people': 7,\n",
              " 'said': 2,\n",
              " 'us': 9,\n",
              " 'would': 4,\n",
              " 'year': 5}"
            ]
          },
          "metadata": {
            "tags": []
          },
          "execution_count": 8
        }
      ]
    },
    {
      "cell_type": "markdown",
      "metadata": {
        "id": "LurmO7WvI43o"
      },
      "source": [
        "This process cleans up our text, lowercase, and remove punctuations."
      ]
    },
    {
      "cell_type": "markdown",
      "metadata": {
        "id": "fuJXbNrzI43p"
      },
      "source": [
        "After tokenization, the next step is to turn thoes tokens into lists of sequence."
      ]
    },
    {
      "cell_type": "code",
      "metadata": {
        "id": "wF4ViOPMI43p"
      },
      "source": [
        "train_sequences = tokenizer.texts_to_sequences(train_articles)"
      ],
      "execution_count": null,
      "outputs": []
    },
    {
      "cell_type": "markdown",
      "metadata": {
        "id": "a-kn4efPI43p"
      },
      "source": [
        "This is the 11th article in the training data that has been turned into sequences."
      ]
    },
    {
      "cell_type": "code",
      "metadata": {
        "scrolled": false,
        "colab": {
          "base_uri": "https://localhost:8080/"
        },
        "id": "7IuBs04hI43q",
        "outputId": "b714d2b7-627b-4790-a7a6-df24c9cf5036"
      },
      "source": [
        "print(train_sequences[10])"
      ],
      "execution_count": null,
      "outputs": [
        {
          "output_type": "stream",
          "text": [
            "[2431, 1, 225, 4996, 22, 642, 587, 225, 4996, 1, 1, 1663, 1, 1, 2431, 22, 565, 1, 1, 140, 278, 1, 140, 278, 796, 823, 662, 2307, 1, 1145, 1694, 1, 1721, 4997, 1, 1, 1, 1, 1, 4738, 1, 1, 122, 4514, 1, 2, 2874, 1506, 352, 4739, 1, 52, 341, 1, 352, 2172, 3962, 41, 22, 3795, 1, 1, 1, 1, 543, 1, 1, 1, 835, 631, 2366, 347, 4740, 1, 365, 22, 1, 787, 2367, 1, 4301, 138, 10, 1, 3666, 682, 3532, 1, 22, 1, 414, 823, 662, 1, 90, 13, 633, 1, 225, 4996, 1, 599, 1, 1694, 1021, 1, 4998, 808, 1864, 117, 1, 1, 1, 2974, 22, 1, 99, 278, 1, 1607, 4999, 543, 492, 1, 1445, 4741, 778, 1320, 1, 1861, 10, 33, 642, 319, 1, 62, 478, 565, 301, 1507, 22, 479, 1, 1, 1666, 1, 797, 1, 3066, 1, 1365, 6, 1, 2431, 565, 22, 2971, 4735, 1, 1, 1, 1, 1, 850, 39, 1825, 675, 297, 26, 979, 1, 882, 22, 361, 22, 13, 301, 1507, 1343, 374, 20, 63, 883, 1096, 4302, 247]\n"
          ],
          "name": "stdout"
        }
      ]
    },
    {
      "cell_type": "markdown",
      "metadata": {
        "id": "RNIwgI6JI43q"
      },
      "source": [
        "When we train neural networks for NLP, we need sequences to be in the same size, that's why we use padding. Our max_length is 200, so we use pad_sequences to make all of our articles the same length which is 200 in my example. That's why you see that the 1st article was 426 in length, becomes 200, the 2nd article was 192 in length, becomes 200, and so on."
      ]
    },
    {
      "cell_type": "code",
      "metadata": {
        "id": "R-ir06SGI43r"
      },
      "source": [
        "train_padded = pad_sequences(train_sequences, maxlen=max_length, padding=padding_type, truncating=trunc_type)"
      ],
      "execution_count": null,
      "outputs": []
    },
    {
      "cell_type": "code",
      "metadata": {
        "colab": {
          "base_uri": "https://localhost:8080/"
        },
        "id": "bkdNtz6eI43r",
        "outputId": "1ea0fa00-c809-4efe-8892-a5a8f16af81e"
      },
      "source": [
        "print(len(train_sequences[0]))\n",
        "print(len(train_padded[0]))\n",
        "\n",
        "print(len(train_sequences[1]))\n",
        "print(len(train_padded[1]))\n",
        "\n",
        "print(len(train_sequences[10]))\n",
        "print(len(train_padded[10]))"
      ],
      "execution_count": null,
      "outputs": [
        {
          "output_type": "stream",
          "text": [
            "425\n",
            "200\n",
            "192\n",
            "200\n",
            "186\n",
            "200\n"
          ],
          "name": "stdout"
        }
      ]
    },
    {
      "cell_type": "markdown",
      "metadata": {
        "id": "16CU1tyuI43s"
      },
      "source": [
        "In addtion, there is padding type and truncating type, there are all \"post\". Means for example, for the 11th article, it was 186 in length, we padded to 200, and we padded at the end, add 14 zeros."
      ]
    },
    {
      "cell_type": "code",
      "metadata": {
        "colab": {
          "base_uri": "https://localhost:8080/"
        },
        "id": "GzN5PY-SI43t",
        "outputId": "dfcff76b-c469-40ea-95ac-9bbabee19384"
      },
      "source": [
        "print(train_sequences[10])"
      ],
      "execution_count": null,
      "outputs": [
        {
          "output_type": "stream",
          "text": [
            "[2431, 1, 225, 4996, 22, 642, 587, 225, 4996, 1, 1, 1663, 1, 1, 2431, 22, 565, 1, 1, 140, 278, 1, 140, 278, 796, 823, 662, 2307, 1, 1145, 1694, 1, 1721, 4997, 1, 1, 1, 1, 1, 4738, 1, 1, 122, 4514, 1, 2, 2874, 1506, 352, 4739, 1, 52, 341, 1, 352, 2172, 3962, 41, 22, 3795, 1, 1, 1, 1, 543, 1, 1, 1, 835, 631, 2366, 347, 4740, 1, 365, 22, 1, 787, 2367, 1, 4301, 138, 10, 1, 3666, 682, 3532, 1, 22, 1, 414, 823, 662, 1, 90, 13, 633, 1, 225, 4996, 1, 599, 1, 1694, 1021, 1, 4998, 808, 1864, 117, 1, 1, 1, 2974, 22, 1, 99, 278, 1, 1607, 4999, 543, 492, 1, 1445, 4741, 778, 1320, 1, 1861, 10, 33, 642, 319, 1, 62, 478, 565, 301, 1507, 22, 479, 1, 1, 1666, 1, 797, 1, 3066, 1, 1365, 6, 1, 2431, 565, 22, 2971, 4735, 1, 1, 1, 1, 1, 850, 39, 1825, 675, 297, 26, 979, 1, 882, 22, 361, 22, 13, 301, 1507, 1343, 374, 20, 63, 883, 1096, 4302, 247]\n"
          ],
          "name": "stdout"
        }
      ]
    },
    {
      "cell_type": "code",
      "metadata": {
        "colab": {
          "base_uri": "https://localhost:8080/"
        },
        "id": "IrCuvADhI43t",
        "outputId": "2d1e39db-9213-4986-8e89-e92e10dabcc0"
      },
      "source": [
        "print(train_padded[10])"
      ],
      "execution_count": null,
      "outputs": [
        {
          "output_type": "stream",
          "text": [
            "[2431    1  225 4996   22  642  587  225 4996    1    1 1663    1    1\n",
            " 2431   22  565    1    1  140  278    1  140  278  796  823  662 2307\n",
            "    1 1145 1694    1 1721 4997    1    1    1    1    1 4738    1    1\n",
            "  122 4514    1    2 2874 1506  352 4739    1   52  341    1  352 2172\n",
            " 3962   41   22 3795    1    1    1    1  543    1    1    1  835  631\n",
            " 2366  347 4740    1  365   22    1  787 2367    1 4301  138   10    1\n",
            " 3666  682 3532    1   22    1  414  823  662    1   90   13  633    1\n",
            "  225 4996    1  599    1 1694 1021    1 4998  808 1864  117    1    1\n",
            "    1 2974   22    1   99  278    1 1607 4999  543  492    1 1445 4741\n",
            "  778 1320    1 1861   10   33  642  319    1   62  478  565  301 1507\n",
            "   22  479    1    1 1666    1  797    1 3066    1 1365    6    1 2431\n",
            "  565   22 2971 4735    1    1    1    1    1  850   39 1825  675  297\n",
            "   26  979    1  882   22  361   22   13  301 1507 1343  374   20   63\n",
            "  883 1096 4302  247    0    0    0    0    0    0    0    0    0    0\n",
            "    0    0    0    0]\n"
          ],
          "name": "stdout"
        }
      ]
    },
    {
      "cell_type": "markdown",
      "metadata": {
        "id": "LdVr6U3JI43u"
      },
      "source": [
        "And for the 1st article, it was 426 in length, we truncated to 200, and we truncated at the end."
      ]
    },
    {
      "cell_type": "code",
      "metadata": {
        "colab": {
          "base_uri": "https://localhost:8080/"
        },
        "id": "PJ1RDukSI43u",
        "outputId": "f2dea3c2-3db1-4aff-dd90-9fa616efeed1"
      },
      "source": [
        "print(train_sequences[0])"
      ],
      "execution_count": null,
      "outputs": [
        {
          "output_type": "stream",
          "text": [
            "[91, 160, 1142, 1107, 49, 979, 755, 1, 89, 1304, 4288, 129, 175, 3654, 1215, 1196, 1577, 42, 7, 893, 91, 1, 334, 85, 20, 14, 130, 3262, 1216, 2421, 570, 451, 1376, 58, 3379, 3522, 1661, 8, 921, 730, 10, 844, 1, 9, 598, 1578, 1108, 395, 1940, 1107, 731, 49, 538, 1398, 2012, 1622, 134, 249, 113, 2355, 795, 4981, 980, 584, 10, 3957, 3958, 921, 2562, 129, 344, 175, 3654, 1, 1, 39, 62, 2867, 28, 9, 4723, 18, 1305, 136, 416, 7, 143, 1423, 71, 4501, 436, 4982, 91, 1108, 77, 1, 82, 2013, 53, 1, 91, 6, 1008, 601, 89, 1304, 91, 1962, 131, 137, 420, 9, 2868, 38, 152, 1235, 89, 1304, 4724, 7, 436, 4982, 3153, 6, 2492, 1, 431, 1127, 1, 1424, 571, 1217, 1902, 1, 766, 9, 538, 1398, 2012, 134, 2070, 400, 845, 1963, 1600, 34, 1717, 2869, 1, 1, 2422, 244, 9, 2624, 82, 732, 6, 1173, 1197, 152, 720, 591, 1, 124, 28, 1305, 1690, 432, 83, 933, 115, 20, 14, 18, 3154, 1, 37, 1485, 1, 23, 37, 87, 335, 2356, 37, 467, 255, 1963, 1359, 328, 1, 299, 732, 1174, 18, 2870, 1717, 1, 294, 756, 1074, 395, 2014, 387, 431, 2014, 2, 1360, 1, 1717, 2166, 67, 1, 1, 1718, 249, 1662, 3059, 1175, 395, 41, 878, 246, 2793, 345, 53, 548, 400, 2, 1, 1, 655, 1361, 202, 91, 3959, 91, 90, 42, 7, 320, 395, 77, 893, 1, 91, 1107, 400, 538, 9, 845, 2422, 11, 38, 1, 995, 513, 483, 2071, 160, 572, 1, 128, 7, 320, 77, 893, 1218, 1127, 1464, 346, 54, 2214, 1219, 741, 92, 256, 274, 1019, 71, 623, 346, 2423, 756, 1216, 2357, 1719, 1, 3784, 3523, 1, 1127, 2014, 177, 371, 1399, 77, 53, 548, 105, 1142, 3, 1, 1047, 93, 2962, 1, 2625, 1, 102, 902, 440, 452, 2, 3, 1, 2871, 451, 1425, 43, 77, 429, 31, 8, 1019, 921, 1, 2562, 30, 1, 91, 1691, 879, 89, 1304, 91, 1962, 1, 30, 8, 1623, 1, 1, 4289, 1579, 4288, 656, 1, 3785, 1008, 572, 4290, 2867, 10, 880, 656, 58, 1, 1262, 1, 1, 91, 1553, 934, 4723, 1, 578, 4105, 10, 9, 235, 2012, 91, 134, 1, 95, 656, 3263, 1, 58, 519, 673, 2626, 3785, 4983, 3380, 483, 4725, 39, 4501, 1, 91, 1748, 673, 269, 116, 239, 2627, 354, 644, 58, 4106, 757, 3655, 4723, 146, 1, 400, 7, 71, 1749, 1108, 767, 910, 118, 584, 3381, 1316, 1578, 1, 1601, 7, 893, 77, 77]\n"
          ],
          "name": "stdout"
        }
      ]
    },
    {
      "cell_type": "code",
      "metadata": {
        "colab": {
          "base_uri": "https://localhost:8080/"
        },
        "id": "OyCU8wi7I43v",
        "outputId": "dfe0cf2d-d6dd-4e7a-921a-46f7ef371597"
      },
      "source": [
        "print(train_padded[0])"
      ],
      "execution_count": null,
      "outputs": [
        {
          "output_type": "stream",
          "text": [
            "[  91  160 1142 1107   49  979  755    1   89 1304 4288  129  175 3654\n",
            " 1215 1196 1577   42    7  893   91    1  334   85   20   14  130 3262\n",
            " 1216 2421  570  451 1376   58 3379 3522 1661    8  921  730   10  844\n",
            "    1    9  598 1578 1108  395 1940 1107  731   49  538 1398 2012 1622\n",
            "  134  249  113 2355  795 4981  980  584   10 3957 3958  921 2562  129\n",
            "  344  175 3654    1    1   39   62 2867   28    9 4723   18 1305  136\n",
            "  416    7  143 1423   71 4501  436 4982   91 1108   77    1   82 2013\n",
            "   53    1   91    6 1008  601   89 1304   91 1962  131  137  420    9\n",
            " 2868   38  152 1235   89 1304 4724    7  436 4982 3153    6 2492    1\n",
            "  431 1127    1 1424  571 1217 1902    1  766    9  538 1398 2012  134\n",
            " 2070  400  845 1963 1600   34 1717 2869    1    1 2422  244    9 2624\n",
            "   82  732    6 1173 1197  152  720  591    1  124   28 1305 1690  432\n",
            "   83  933  115   20   14   18 3154    1   37 1485    1   23   37   87\n",
            "  335 2356   37  467  255 1963 1359  328    1  299  732 1174   18 2870\n",
            " 1717    1  294  756]\n"
          ],
          "name": "stdout"
        }
      ]
    },
    {
      "cell_type": "markdown",
      "metadata": {
        "id": "ElJ8kLzjI43v"
      },
      "source": [
        "Then we do the same for the validation sequences. Note that we should expect more out of vocabulary words from validation articles because word index were derived from the training articles."
      ]
    },
    {
      "cell_type": "code",
      "metadata": {
        "colab": {
          "base_uri": "https://localhost:8080/"
        },
        "id": "QTSBcEY8I43v",
        "outputId": "fca1d1bc-527b-4ae2-f093-19924f252a1f"
      },
      "source": [
        "validation_sequences = tokenizer.texts_to_sequences(validation_articles)\n",
        "validation_padded = pad_sequences(validation_sequences, maxlen=max_length, padding=padding_type, truncating=trunc_type)\n",
        "\n",
        "print(len(validation_sequences))\n",
        "print(validation_padded.shape)"
      ],
      "execution_count": null,
      "outputs": [
        {
          "output_type": "stream",
          "text": [
            "445\n",
            "(445, 200)\n"
          ],
          "name": "stdout"
        }
      ]
    },
    {
      "cell_type": "markdown",
      "metadata": {
        "id": "6qvIt2XEI43w"
      },
      "source": [
        "Now we are going to look at the labels. because our labels are text, so we will tokenize them, when training, labels are expected to be numpy arrays. So we will turn list of labels into numpy arrays like so:"
      ]
    },
    {
      "cell_type": "code",
      "metadata": {
        "colab": {
          "base_uri": "https://localhost:8080/"
        },
        "id": "gJc5PX_MI43w",
        "outputId": "fd5fcf01-0dc5-4a78-a058-489ee877e38e"
      },
      "source": [
        "print(set(labels))"
      ],
      "execution_count": null,
      "outputs": [
        {
          "output_type": "stream",
          "text": [
            "{'business', 'tech', 'sport', 'politics', 'entertainment'}\n"
          ],
          "name": "stdout"
        }
      ]
    },
    {
      "cell_type": "code",
      "metadata": {
        "id": "Md8CxjuhI43x"
      },
      "source": [
        "label_tokenizer = Tokenizer()\n",
        "label_tokenizer.fit_on_texts(labels)\n",
        "\n",
        "training_label_seq = np.array(label_tokenizer.texts_to_sequences(train_labels))\n",
        "validation_label_seq = np.array(label_tokenizer.texts_to_sequences(validation_labels))"
      ],
      "execution_count": null,
      "outputs": []
    },
    {
      "cell_type": "code",
      "metadata": {
        "colab": {
          "base_uri": "https://localhost:8080/"
        },
        "id": "xwL00VfXI43x",
        "outputId": "5163b749-b1fb-46d3-9f23-f73c471b35ff"
      },
      "source": [
        "print(training_label_seq[0])\n",
        "print(training_label_seq[1])\n",
        "print(training_label_seq[2])\n",
        "print(training_label_seq.shape)\n",
        "\n",
        "print(validation_label_seq[0])\n",
        "print(validation_label_seq[1])\n",
        "print(validation_label_seq[2])\n",
        "print(validation_label_seq.shape)"
      ],
      "execution_count": null,
      "outputs": [
        {
          "output_type": "stream",
          "text": [
            "[4]\n",
            "[2]\n",
            "[1]\n",
            "(1780, 1)\n",
            "[5]\n",
            "[4]\n",
            "[3]\n",
            "(445, 1)\n"
          ],
          "name": "stdout"
        }
      ]
    },
    {
      "cell_type": "markdown",
      "metadata": {
        "id": "NZj2ZCORI43y"
      },
      "source": [
        "Before training deep neural network, we want to explore what our original article and article after padding look like. Running the following code, we explore the 11th article, we can see that some words become \"OOV\", because they did not make to the top 5,000."
      ]
    },
    {
      "cell_type": "code",
      "metadata": {
        "colab": {
          "base_uri": "https://localhost:8080/"
        },
        "id": "Qe3tGWLgI43z",
        "outputId": "cea41b1f-282d-4f35-cd2e-083ca3efb55c"
      },
      "source": [
        "reverse_word_index = dict([(value, key) for (key, value) in word_index.items()])\n",
        "\n",
        "def decode_article(text):\n",
        "    return ' '.join([reverse_word_index.get(i, '?') for i in text])\n",
        "print(decode_article(train_padded[10]))\n",
        "print('---')\n",
        "print(train_articles[10])"
      ],
      "execution_count": null,
      "outputs": [
        {
          "output_type": "stream",
          "text": [
            "berlin <OOV> anti nazi film german movie anti nazi <OOV> <OOV> drawn <OOV> <OOV> berlin film festival <OOV> <OOV> final days <OOV> final days member white rose movement <OOV> 21 arrested <OOV> brother hans <OOV> <OOV> <OOV> <OOV> <OOV> tyranny <OOV> <OOV> director marc <OOV> said feeling responsibility keep legacy <OOV> going must <OOV> keep ideas alive added film drew <OOV> <OOV> <OOV> <OOV> trial <OOV> <OOV> <OOV> east germany secret police discovery <OOV> behind film <OOV> worked closely <OOV> relatives including one <OOV> sisters ensure historical <OOV> film <OOV> members white rose <OOV> group first started <OOV> anti nazi <OOV> summer <OOV> arrested dropped <OOV> munich university calling day <OOV> <OOV> <OOV> regime film <OOV> six days <OOV> arrest intense trial saw <OOV> initially deny charges ended <OOV> appearance one three german films <OOV> top prize festival south african film version <OOV> <OOV> opera <OOV> shot <OOV> town <OOV> language also <OOV> berlin festival film entitled u <OOV> <OOV> <OOV> <OOV> <OOV> story set performed 40 strong music theatre <OOV> debut film performance film first south african feature 25 years second nominated golden bear award ? ? ? ? ? ? ? ? ? ? ? ? ? ?\n",
            "---\n",
            "berlin cheers anti-nazi film german movie anti-nazi resistance heroine drawn loud applause berlin film festival.  sophie scholl - final days portrays final days member white rose movement. scholl  21  arrested beheaded brother  hans  1943 distributing leaflets condemning  abhorrent tyranny  adolf hitler. director marc rothemund said:  feeling responsibility keep legacy scholls going.   must somehow keep ideas alive   added.  film drew transcripts gestapo interrogations scholl trial preserved archive communist east germany secret police. discovery inspiration behind film rothemund  worked closely surviving relatives  including one scholl sisters  ensure historical accuracy film. scholl members white rose resistance group first started distributing anti-nazi leaflets summer 1942. arrested dropped leaflets munich university calling  day reckoning  adolf hitler regime. film focuses six days scholl arrest intense trial saw scholl initially deny charges ended defiant appearance. one three german films vying top prize festival.  south african film version bizet tragic opera carmen shot cape town xhosa language also premiered berlin festival. film entitled u-carmen ekhayelitsha carmen khayelitsha township story set. performed 40-strong music theatre troupe debut film performance. film first south african feature 25 years second nominated golden bear award.\n"
          ],
          "name": "stdout"
        }
      ]
    },
    {
      "cell_type": "markdown",
      "metadata": {
        "id": "Wi0rXTlhI43z"
      },
      "source": [
        "Now we can implement LSTM. Here is my code that I build a tf.keras.Sequential model and start with an embedding layer. An embedding layer stores one vector per word. When called, it converts the sequences of word indices into sequences of vectors. After training, words with similar meanings often have the similar vectors.\n",
        "\n",
        "Next is how to implement LSTM in code. The Bidirectional wrapper is used with a LSTM layer, this propagates the input forwards and backwards through the LSTM layer and then concatenates the outputs. This helps LSTM to learn long term dependencies. We then fit it to a dense neural network to do classification.\n",
        "\n",
        "This index-lookup is much more efficient than the equivalent operation of passing a one-hot encoded vector through a tf.keras.layers.Dense layer."
      ]
    },
    {
      "cell_type": "code",
      "metadata": {
        "colab": {
          "base_uri": "https://localhost:8080/"
        },
        "id": "p24TPvdHI430",
        "outputId": "4611977f-e126-4b6c-f971-f97c8b173fb0"
      },
      "source": [
        "model = tf.keras.Sequential([\n",
        "    # Add an Embedding layer expecting input vocab of size 5000, and output embedding dimension of size 64 we set at the top\n",
        "    tf.keras.layers.Embedding(vocab_size, embedding_dim),\n",
        "    tf.keras.layers.Bidirectional(tf.keras.layers.LSTM(embedding_dim)),\n",
        "#    tf.keras.layers.Bidirectional(tf.keras.layers.LSTM(32)),\n",
        "    # use ReLU in place of tanh function since they are very good alternatives of each other.\n",
        "    tf.keras.layers.Dense(embedding_dim, activation='relu'),\n",
        "    # Add a Dense layer with 6 units and softmax activation.\n",
        "    # When we have multiple outputs, softmax convert outputs layers into a probability distribution.\n",
        "    tf.keras.layers.Dense(6, activation='softmax')\n",
        "])\n",
        "model.summary()"
      ],
      "execution_count": null,
      "outputs": [
        {
          "output_type": "stream",
          "text": [
            "Model: \"sequential\"\n",
            "_________________________________________________________________\n",
            "Layer (type)                 Output Shape              Param #   \n",
            "=================================================================\n",
            "embedding (Embedding)        (None, None, 64)          320000    \n",
            "_________________________________________________________________\n",
            "bidirectional (Bidirectional (None, 128)               66048     \n",
            "_________________________________________________________________\n",
            "dense (Dense)                (None, 64)                8256      \n",
            "_________________________________________________________________\n",
            "dense_1 (Dense)              (None, 6)                 390       \n",
            "=================================================================\n",
            "Total params: 394,694\n",
            "Trainable params: 394,694\n",
            "Non-trainable params: 0\n",
            "_________________________________________________________________\n"
          ],
          "name": "stdout"
        }
      ]
    },
    {
      "cell_type": "markdown",
      "metadata": {
        "id": "f0CV86gUI434"
      },
      "source": [
        "In our model summay, we have our embeddings, our Bidirectional contains LSTM, followed by two dense layers. The output from Bidirectional is 128, because it doubled what we put in LSTM. We can also stack LSTM layer but I found the results worse."
      ]
    },
    {
      "cell_type": "code",
      "metadata": {
        "id": "tZJprA93I434"
      },
      "source": [
        "model.compile(loss='sparse_categorical_crossentropy', optimizer='adam', metrics=['accuracy'])"
      ],
      "execution_count": null,
      "outputs": []
    },
    {
      "cell_type": "code",
      "metadata": {
        "colab": {
          "base_uri": "https://localhost:8080/"
        },
        "id": "WdJrEf1sI435",
        "outputId": "3851e1c3-d4b3-428c-b6bd-18eb6ec6476b"
      },
      "source": [
        "num_epochs = 20\n",
        "history = model.fit(train_padded, training_label_seq, epochs=num_epochs, validation_data=(validation_padded, validation_label_seq), verbose=2)"
      ],
      "execution_count": null,
      "outputs": [
        {
          "output_type": "stream",
          "text": [
            "Epoch 1/20\n",
            "56/56 - 1s - loss: 7.0219e-06 - accuracy: 1.0000 - val_loss: 0.3138 - val_accuracy: 0.9528\n",
            "Epoch 2/20\n",
            "56/56 - 1s - loss: 6.5655e-06 - accuracy: 1.0000 - val_loss: 0.3161 - val_accuracy: 0.9528\n",
            "Epoch 3/20\n",
            "56/56 - 1s - loss: 6.1513e-06 - accuracy: 1.0000 - val_loss: 0.3184 - val_accuracy: 0.9528\n",
            "Epoch 4/20\n",
            "56/56 - 1s - loss: 5.7703e-06 - accuracy: 1.0000 - val_loss: 0.3208 - val_accuracy: 0.9506\n",
            "Epoch 5/20\n",
            "56/56 - 1s - loss: 5.4205e-06 - accuracy: 1.0000 - val_loss: 0.3229 - val_accuracy: 0.9528\n",
            "Epoch 6/20\n",
            "56/56 - 1s - loss: 5.1060e-06 - accuracy: 1.0000 - val_loss: 0.3251 - val_accuracy: 0.9528\n",
            "Epoch 7/20\n",
            "56/56 - 1s - loss: 4.8070e-06 - accuracy: 1.0000 - val_loss: 0.3272 - val_accuracy: 0.9528\n",
            "Epoch 8/20\n",
            "56/56 - 1s - loss: 4.5370e-06 - accuracy: 1.0000 - val_loss: 0.3291 - val_accuracy: 0.9528\n",
            "Epoch 9/20\n",
            "56/56 - 1s - loss: 4.2853e-06 - accuracy: 1.0000 - val_loss: 0.3312 - val_accuracy: 0.9528\n",
            "Epoch 10/20\n",
            "56/56 - 1s - loss: 4.0542e-06 - accuracy: 1.0000 - val_loss: 0.3340 - val_accuracy: 0.9528\n",
            "Epoch 11/20\n",
            "56/56 - 1s - loss: 3.8350e-06 - accuracy: 1.0000 - val_loss: 0.3358 - val_accuracy: 0.9528\n",
            "Epoch 12/20\n",
            "56/56 - 1s - loss: 3.6300e-06 - accuracy: 1.0000 - val_loss: 0.3376 - val_accuracy: 0.9528\n",
            "Epoch 13/20\n",
            "56/56 - 1s - loss: 3.4471e-06 - accuracy: 1.0000 - val_loss: 0.3394 - val_accuracy: 0.9528\n",
            "Epoch 14/20\n",
            "56/56 - 1s - loss: 3.2691e-06 - accuracy: 1.0000 - val_loss: 0.3410 - val_accuracy: 0.9528\n",
            "Epoch 15/20\n",
            "56/56 - 1s - loss: 3.1305e-06 - accuracy: 1.0000 - val_loss: 0.3500 - val_accuracy: 0.9528\n",
            "Epoch 16/20\n",
            "56/56 - 1s - loss: 2.9730e-06 - accuracy: 1.0000 - val_loss: 0.3517 - val_accuracy: 0.9528\n",
            "Epoch 17/20\n",
            "56/56 - 1s - loss: 2.8253e-06 - accuracy: 1.0000 - val_loss: 0.3531 - val_accuracy: 0.9528\n",
            "Epoch 18/20\n",
            "56/56 - 1s - loss: 2.6913e-06 - accuracy: 1.0000 - val_loss: 0.3547 - val_accuracy: 0.9528\n",
            "Epoch 19/20\n",
            "56/56 - 1s - loss: 2.5647e-06 - accuracy: 1.0000 - val_loss: 0.3561 - val_accuracy: 0.9528\n",
            "Epoch 20/20\n",
            "56/56 - 1s - loss: 2.4242e-06 - accuracy: 1.0000 - val_loss: 0.3576 - val_accuracy: 0.9528\n"
          ],
          "name": "stdout"
        }
      ]
    },
    {
      "cell_type": "code",
      "metadata": {
        "id": "XBGpEnMVI436",
        "outputId": "ec36d13a-ed3f-4203-b3f0-32aedafa7720"
      },
      "source": [
        "!pip install matplotlib"
      ],
      "execution_count": null,
      "outputs": [
        {
          "output_type": "stream",
          "text": [
            "Requirement already satisfied: matplotlib in c:\\users\\win10\\.conda\\envs\\tensorflow2\\lib\\site-packages (3.3.2)\n",
            "Requirement already satisfied: certifi>=2020.06.20 in c:\\users\\win10\\.conda\\envs\\tensorflow2\\lib\\site-packages (from matplotlib) (2020.6.20)\n",
            "Requirement already satisfied: numpy>=1.15 in c:\\users\\win10\\.conda\\envs\\tensorflow2\\lib\\site-packages (from matplotlib) (1.19.1)\n",
            "Requirement already satisfied: python-dateutil>=2.1 in c:\\users\\win10\\.conda\\envs\\tensorflow2\\lib\\site-packages (from matplotlib) (2.8.1)\n",
            "Requirement already satisfied: cycler>=0.10 in c:\\users\\win10\\.conda\\envs\\tensorflow2\\lib\\site-packages (from matplotlib) (0.10.0)\n",
            "Requirement already satisfied: kiwisolver>=1.0.1 in c:\\users\\win10\\.conda\\envs\\tensorflow2\\lib\\site-packages (from matplotlib) (1.2.0)\n",
            "Requirement already satisfied: pillow>=6.2.0 in c:\\users\\win10\\.conda\\envs\\tensorflow2\\lib\\site-packages (from matplotlib) (7.2.0)\n",
            "Requirement already satisfied: pyparsing!=2.0.4,!=2.1.2,!=2.1.6,>=2.0.3 in c:\\users\\win10\\.conda\\envs\\tensorflow2\\lib\\site-packages (from matplotlib) (2.4.7)\n",
            "Requirement already satisfied: six>=1.5 in c:\\users\\win10\\.conda\\envs\\tensorflow2\\lib\\site-packages (from python-dateutil>=2.1->matplotlib) (1.15.0)\n"
          ],
          "name": "stdout"
        }
      ]
    },
    {
      "cell_type": "code",
      "metadata": {
        "id": "tyUhZoAEI437"
      },
      "source": [
        ""
      ],
      "execution_count": null,
      "outputs": []
    },
    {
      "cell_type": "code",
      "metadata": {
        "colab": {
          "base_uri": "https://localhost:8080/",
          "height": 541
        },
        "id": "vop5kuOTI437",
        "outputId": "128431e0-b96f-4791-e69c-0c3b1f463943"
      },
      "source": [
        "from matplotlib import pyplot as plt\n",
        "def plot_graphs(history, string):\n",
        "  plt.plot(history.history[string])\n",
        "  plt.plot(history.history['val_'+string])\n",
        "  plt.xlabel(\"Epochs\")\n",
        "  plt.ylabel(string)\n",
        "  plt.legend([string, 'val_'+string])\n",
        "  plt.show()\n",
        "  \n",
        "plot_graphs(history, \"accuracy\")\n",
        "plot_graphs(history, \"loss\")"
      ],
      "execution_count": null,
      "outputs": [
        {
          "output_type": "display_data",
          "data": {
            "image/png": "[encoded data removed]",
            "text/plain": [
              "<Figure size 432x288 with 1 Axes>"
            ]
          },
          "metadata": {
            "tags": [],
            "needs_background": "light"
          }
        },
        {
          "output_type": "display_data",
          "data": {
            "image/png": "[encoded data removed]",
            "text/plain": [
              "<Figure size 432x288 with 1 Axes>"
            ]
          },
          "metadata": {
            "tags": [],
            "needs_background": "light"
          }
        }
      ]
    },
    {
      "cell_type": "code",
      "metadata": {
        "colab": {
          "base_uri": "https://localhost:8080/"
        },
        "id": "pbHmOra8I438",
        "outputId": "5a1c0bd5-027f-43ef-fadc-143fc4b0c85e"
      },
      "source": [
        "txt = [\"A WeWork shareholder has taken the company to court over the near-$1.7bn (£1.3bn) leaving package approved for ousted co-founder Adam Neumann.\"]\n",
        "seq = tokenizer.texts_to_sequences(txt)\n",
        "padded = pad_sequences(seq, maxlen=max_length)\n",
        "pred = model.predict(padded)\n",
        "pred"
      ],
      "execution_count": null,
      "outputs": [
        {
          "output_type": "execute_result",
          "data": {
            "text/plain": [
              "array([[2.8325338e-04, 2.1197850e-02, 1.4280945e-03, 6.9294806e-04,\n",
              "        1.5313146e-03, 9.7486645e-01]], dtype=float32)"
            ]
          },
          "metadata": {
            "tags": []
          },
          "execution_count": 26
        }
      ]
    },
    {
      "cell_type": "code",
      "metadata": {
        "colab": {
          "base_uri": "https://localhost:8080/"
        },
        "id": "b-KltNHnI439",
        "outputId": "e86a6069-f352-49da-80e2-4444b33e5e0b"
      },
      "source": [
        "txt = [\"Ronaldo scores the goal\"]\n",
        "seq = tokenizer.texts_to_sequences(txt)\n",
        "padded = pad_sequences(seq, maxlen=max_length)\n",
        "pred = model.predict(padded)\n",
        "labels = ['sport', 'bussiness', 'politics', 'tech', 'entertainment','unknown']\n",
        "print(pred, labels[np.argmax(pred)])"
      ],
      "execution_count": null,
      "outputs": [
        {
          "output_type": "stream",
          "text": [
            "[[2.2943839e-04 2.1576112e-02 1.4059686e-03 6.2222738e-04 1.3096083e-03\n",
            "  9.7485662e-01]] unknown\n"
          ],
          "name": "stdout"
        }
      ]
    },
    {
      "cell_type": "code",
      "metadata": {
        "colab": {
          "base_uri": "https://localhost:8080/"
        },
        "id": "pDq9Kh2GI439",
        "outputId": "f754619a-a492-4309-fe3b-d1cf7a8c95a0"
      },
      "source": [
        "np.argmax(pred)"
      ],
      "execution_count": null,
      "outputs": [
        {
          "output_type": "execute_result",
          "data": {
            "text/plain": [
              "5"
            ]
          },
          "metadata": {
            "tags": []
          },
          "execution_count": 46
        }
      ]
    },
    {
      "cell_type": "code",
      "metadata": {
        "id": "yGBhEzFaI43-"
      },
      "source": [
        ""
      ],
      "execution_count": null,
      "outputs": []
    }
  ]
}